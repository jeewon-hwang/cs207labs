{
 "cells": [
  {
   "cell_type": "code",
   "execution_count": 13,
   "metadata": {
    "collapsed": false
   },
   "outputs": [],
   "source": [
    "class TimeSeries():\n",
    "    def __init__(self, time_series):\n",
    "        \"\"\"\n",
    "        constructor of TimeSeries Class.\n",
    "        It should take one mandatory argument which represents initial data to fill the time series instance with.\n",
    "\n",
    "        Parameters\n",
    "        ----------\n",
    "        time_series : list\n",
    "            a list that can be zero-length, but it can't be omitted.\n",
    "        \"\"\"\n",
    "        self.time_series = time_series\n",
    "        \n",
    "    def __len__(self):\n",
    "        return len(self.time_series)\n",
    "    \n",
    "    def __getitem__(self, index):\n",
    "        return self.time_series[index]\n",
    "    \n",
    "    def __setitem__(self, index, value):\n",
    "        self.time_series[index] = value\n",
    "        \n",
    "    def __repr__(self):\n",
    "        class_name = type(self).__name__\n",
    "        if len(self.time_series) < 4 :\n",
    "            return '{}({})'.format(class_name, self.time_series)\n",
    "        else :\n",
    "            a = self.time_series\n",
    "            return '{}({})'.format(class_name, '['+str(a[0])+', '+str(a[1])+', ... ,'+str(a[-1])+']')\n",
    "    \n",
    "    def __str__(self):\n",
    "        \"\"\"\n",
    "        ex. \n",
    "        print( TimeSeries(range(0,1000000)) )\n",
    "        TimeSeries([0, 1, ... ,999999])\n",
    "        \"\"\"\n",
    "\n",
    "        class_name = type(self).__name__\n",
    "        if len(self.time_series) < 4 :\n",
    "            return '{}({})'.format(class_name, self.time_series)\n",
    "        else :\n",
    "            a = self.time_series\n",
    "            return '{}({})'.format(class_name, '['+str(a[0])+', '+str(a[1])+', ... ,'+str(a[-1])+']')\n",
    "        "
   ]
  },
  {
   "cell_type": "code",
   "execution_count": 14,
   "metadata": {
    "collapsed": false
   },
   "outputs": [
    {
     "name": "stdout",
     "output_type": "stream",
     "text": [
      "TimeSeries([1, 2, 3])\n",
      "TimeSeries([0, 1, ... ,999999])\n"
     ]
    }
   ],
   "source": [
    "print( TimeSeries([1,2,3]) )\n",
    "print( TimeSeries(range(0,1000000)) )"
   ]
  },
  {
   "cell_type": "code",
   "execution_count": 15,
   "metadata": {
    "collapsed": false
   },
   "outputs": [
    {
     "name": "stdout",
     "output_type": "stream",
     "text": [
      "sum 233168\n"
     ]
    }
   ],
   "source": [
    "threes = TimeSeries(range(0,1000,3))\n",
    "fives = TimeSeries(range(0,1000,5))\n",
    "\n",
    "s = 0\n",
    "for i in range(0,1000):\n",
    "  if i in threes or i in fives:\n",
    "    s += i\n",
    "\n",
    "print(\"sum\",s)"
   ]
  },
  {
   "cell_type": "code",
   "execution_count": null,
   "metadata": {
    "collapsed": true
   },
   "outputs": [],
   "source": []
  }
 ],
 "metadata": {
  "kernelspec": {
   "display_name": "Python 3",
   "language": "python",
   "name": "python3"
  },
  "language_info": {
   "codemirror_mode": {
    "name": "ipython",
    "version": 3
   },
   "file_extension": ".py",
   "mimetype": "text/x-python",
   "name": "python",
   "nbconvert_exporter": "python",
   "pygments_lexer": "ipython3",
   "version": "3.5.1"
  }
 },
 "nbformat": 4,
 "nbformat_minor": 0
}
