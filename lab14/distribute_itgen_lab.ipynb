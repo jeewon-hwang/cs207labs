{
 "cells": [
  {
   "cell_type": "markdown",
   "metadata": {
    "collapsed": true
   },
   "source": [
    "## Q1.\n",
    "\n",
    "Add methods `__iter__` to your project Time Series class to iterate over values, a method `itertimes` to iterate over times, a method `itervalues` to iterate over values, and a method `iteritems` to iterate over time-value pairs. (This is a similar interface to python dictionaries). To test these, check both the types of the results and the answers you expect."
   ]
  },
  {
   "cell_type": "code",
   "execution_count": 1,
   "metadata": {
    "collapsed": true
   },
   "outputs": [],
   "source": [
    "#your code here\n"
   ]
  },
  {
   "cell_type": "markdown",
   "metadata": {},
   "source": [
    "## Q2.\n",
    "\n",
    "An online mean and standard deviation algorithm.\n",
    "\n",
    "Below is a function to generate a potentially infinite stream of 1-D data."
   ]
  },
  {
   "cell_type": "code",
   "execution_count": 14,
   "metadata": {
    "collapsed": false
   },
   "outputs": [],
   "source": [
    "from random import normalvariate, random\n",
    "from itertools import count\n",
    "def make_data(m, stop=None):\n",
    "    for _ in count():\n",
    "        if stop and _ > stop:\n",
    "            break\n",
    "        yield 1.0e09 + normalvariate(0, m*random() )\n",
    "        "
   ]
  },
  {
   "cell_type": "markdown",
   "metadata": {},
   "source": [
    "Here is an implementation of an online mean algorithm..see http://www.johndcook.com/blog/standard_deviation/ and the link to http://www.johndcook.com/blog/2008/09/26/comparing-three-methods-of-computing-standard-deviation/ in-between. (Convince yourselves of the formulas...)"
   ]
  },
  {
   "cell_type": "code",
   "execution_count": 15,
   "metadata": {
    "collapsed": true
   },
   "outputs": [],
   "source": [
    "def online_mean(iterator):\n",
    "    n = 0\n",
    "    mu = 0\n",
    "    for value in iterator:\n",
    "        n += 1\n",
    "        delta = value - mu\n",
    "        mu = mu + delta/n\n",
    "        yield mu"
   ]
  },
  {
   "cell_type": "markdown",
   "metadata": {},
   "source": [
    "We use out generator functions to implement iterators:"
   ]
  },
  {
   "cell_type": "code",
   "execution_count": 16,
   "metadata": {
    "collapsed": false
   },
   "outputs": [
    {
     "data": {
      "text/plain": [
       "[999999999.6949916,\n",
       " 999999999.8731143,\n",
       " 1000000000.874608,\n",
       " 999999998.2258589,\n",
       " 999999999.984858,\n",
       " 999999997.9674028,\n",
       " 1000000000.3574641,\n",
       " 999999998.2571396,\n",
       " 1000000000.67899,\n",
       " 1000000000.3744192,\n",
       " 999999999.636875]"
      ]
     },
     "execution_count": 16,
     "metadata": {},
     "output_type": "execute_result"
    }
   ],
   "source": [
    "g = make_data(5, 10)\n",
    "list(g)"
   ]
  },
  {
   "cell_type": "code",
   "execution_count": 17,
   "metadata": {
    "collapsed": false
   },
   "outputs": [
    {
     "name": "stdout",
     "output_type": "stream",
     "text": [
      "<class 'generator'>\n"
     ]
    },
    {
     "data": {
      "text/plain": [
       "[999999996.733125,\n",
       " 999999997.3625338,\n",
       " 999999997.7538651,\n",
       " 999999998.8259468,\n",
       " 999999999.4049274,\n",
       " 999999999.6505694,\n",
       " 999999999.986985,\n",
       " 1000000000.1195996,\n",
       " 1000000000.0281813,\n",
       " 1000000000.0501871,\n",
       " 1000000000.2436261,\n",
       " 1000000000.222019,\n",
       " 1000000000.2033015,\n",
       " 1000000000.409862,\n",
       " 1000000000.4252728,\n",
       " 1000000000.3151098,\n",
       " 1000000000.4013369,\n",
       " 1000000000.3813795,\n",
       " 1000000000.1711766,\n",
       " 1000000000.4527487,\n",
       " 1000000000.3699626,\n",
       " 1000000000.1718608,\n",
       " 999999999.7569395,\n",
       " 999999999.8536801,\n",
       " 999999999.8366659,\n",
       " 1000000000.0935988,\n",
       " 999999999.7104682,\n",
       " 999999999.741009,\n",
       " 999999999.6156029,\n",
       " 1000000000.0574178,\n",
       " 1000000000.0338672,\n",
       " 1000000000.1099402,\n",
       " 1000000000.0318493,\n",
       " 1000000000.0000029,\n",
       " 999999999.9709872,\n",
       " 1000000000.0833205,\n",
       " 1000000000.0847766,\n",
       " 1000000000.1429358,\n",
       " 1000000000.0820522,\n",
       " 1000000000.1613166,\n",
       " 1000000000.0694326,\n",
       " 1000000000.1717634,\n",
       " 1000000000.1700509,\n",
       " 1000000000.1591498,\n",
       " 1000000000.0833992,\n",
       " 1000000000.0682601,\n",
       " 1000000000.1218482,\n",
       " 1000000000.1545197,\n",
       " 1000000000.1129192,\n",
       " 1000000000.0273751,\n",
       " 1000000000.0433015,\n",
       " 1000000000.0940164,\n",
       " 1000000000.1109471,\n",
       " 1000000000.1943504,\n",
       " 1000000000.1742979,\n",
       " 1000000000.1364341,\n",
       " 1000000000.1396556,\n",
       " 1000000000.1123736,\n",
       " 1000000000.1152004,\n",
       " 1000000000.2222301,\n",
       " 1000000000.1692575,\n",
       " 1000000000.1611509,\n",
       " 1000000000.1993216,\n",
       " 1000000000.209559,\n",
       " 1000000000.1676856,\n",
       " 1000000000.1366631,\n",
       " 1000000000.1411963,\n",
       " 1000000000.1144717,\n",
       " 1000000000.1926123,\n",
       " 1000000000.1979797,\n",
       " 1000000000.2444215,\n",
       " 1000000000.2648015,\n",
       " 1000000000.2783961,\n",
       " 1000000000.2810432,\n",
       " 1000000000.3603476,\n",
       " 1000000000.3560424,\n",
       " 1000000000.2968206,\n",
       " 1000000000.2921127,\n",
       " 1000000000.2834113,\n",
       " 1000000000.2416241,\n",
       " 1000000000.2087969,\n",
       " 1000000000.1868806,\n",
       " 1000000000.1855448,\n",
       " 1000000000.1862574,\n",
       " 1000000000.1841055,\n",
       " 1000000000.2568733,\n",
       " 1000000000.1669638,\n",
       " 1000000000.1286231,\n",
       " 1000000000.0588703,\n",
       " 1000000000.035267,\n",
       " 1000000000.0148307,\n",
       " 1000000000.0196396,\n",
       " 1000000000.0358418,\n",
       " 1000000000.0227695,\n",
       " 999999999.9905428,\n",
       " 999999999.984338,\n",
       " 999999999.9967824,\n",
       " 1000000000.0003372,\n",
       " 1000000000.0281936,\n",
       " 1000000000.01959,\n",
       " 1000000000.0110914]"
      ]
     },
     "execution_count": 17,
     "metadata": {},
     "output_type": "execute_result"
    }
   ],
   "source": [
    "g = online_mean(make_data(5, 100))\n",
    "print(type(g))\n",
    "list(g)"
   ]
  },
  {
   "cell_type": "markdown",
   "metadata": {},
   "source": [
    "### 2.1\n",
    "\n",
    "Implement the standard deviation algorithm as a generator function as\n",
    "\n",
    "```python\n",
    "def online_mean_dev(iterator):\n",
    "    BLA BLA\n",
    "    if n > 1:\n",
    "        stddev = math.sqrt(dev_accum/(n-1))\n",
    "        yield (n, value, mu, stddev)\n",
    "```"
   ]
  },
  {
   "cell_type": "code",
   "execution_count": 18,
   "metadata": {
    "collapsed": false
   },
   "outputs": [],
   "source": [
    "import math\n",
    "# your code here\n",
    "def online_mean_dev(iterator):\n",
    "    n = 0\n",
    "    for value in iterator:\n",
    "        n = n+1\n",
    "        if n==1:\n",
    "            mu = value\n",
    "            old_mu = value\n",
    "            old_dev_accum = 0.0\n",
    "        elif n > 1:\n",
    "            mu = old_mu + 1.0*(value - old_mu)/n\n",
    "            dev_accum = old_dev_accum + (value - old_mu)*(value - mu)\n",
    "            stddev = math.sqrt(dev_accum/(n-1))\n",
    "            yield (n, value, mu, stddev)\n",
    "            old_mu = mu\n",
    "            old_dev_accum = dev_accum"
   ]
  },
  {
   "cell_type": "markdown",
   "metadata": {},
   "source": [
    "Here we make 100000 element data, and run this iterator on it (imagine running this on a time-series being slowly read from disk"
   ]
  },
  {
   "cell_type": "code",
   "execution_count": 36,
   "metadata": {
    "collapsed": false
   },
   "outputs": [],
   "source": [
    "data_with_stats = online_mean_dev(make_data(5, 100000))"
   ]
  },
  {
   "cell_type": "code",
   "execution_count": 20,
   "metadata": {
    "collapsed": false
   },
   "outputs": [
    {
     "name": "stdout",
     "output_type": "stream",
     "text": [
      "(2, 999999997.5948428, 999999999.3371397, 2.4639799539246083)\n",
      "(3, 1000000001.828266, 1000000000.1675152, 2.259240732127109)\n",
      "(4, 1000000000.9333627, 1000000000.3589771, 1.883987722602373)\n",
      "(5, 1000000000.0462463, 1000000000.296431, 1.6375644767007431)\n",
      "(6, 999999999.1924468, 1000000000.1124336, 1.5324568766503766)\n",
      "(7, 999999998.9926617, 999999999.9524661, 1.461556382128187)\n",
      "(8, 1000000000.0239923, 999999999.961407, 1.35337455693341)\n",
      "(9, 1000000000.2054247, 999999999.98852, 1.2685763386218456)\n",
      "(10, 999999996.715831, 999999999.6612511, 1.581621217919134)\n",
      "(11, 1000000000.2731227, 999999999.7168758, 1.5117566854253919)\n"
     ]
    }
   ],
   "source": [
    "data_with_stats = online_mean_dev(make_data(5, 10))\n",
    "for i in data_with_stats:\n",
    "    print (i)"
   ]
  },
  {
   "cell_type": "markdown",
   "metadata": {},
   "source": [
    "## Q3.\n",
    "\n",
    "Let's do Anomaly detection. Write a routine `is_ok`:\n",
    "\n",
    "```python\n",
    "def is_ok(level, t)\n",
    "```\n",
    "\n",
    "which takes a tuple like the one yielded by your code above and returns True if the value is inbetween `level`-$\\sigma$ of the mean."
   ]
  },
  {
   "cell_type": "code",
   "execution_count": 37,
   "metadata": {
    "collapsed": true
   },
   "outputs": [],
   "source": [
    "#your code here\n",
    "def is_ok(level, t):\n",
    "    n, value, mu, stddev = t\n",
    "    if (mu - level*stddev <= value) and (value <= mu + level*stddev):\n",
    "        return True\n",
    "    else:\n",
    "        return False"
   ]
  },
  {
   "cell_type": "markdown",
   "metadata": {},
   "source": [
    "We use this function to create a predicate passed through to `itertools.filterfalse` which is then used to obtain an iterator on the anomalies."
   ]
  },
  {
   "cell_type": "code",
   "execution_count": 38,
   "metadata": {
    "collapsed": true
   },
   "outputs": [],
   "source": [
    "from itertools import filterfalse\n",
    "pred = lambda t: is_ok(5, t)\n",
    "anomalies = filterfalse(pred, data_with_stats)"
   ]
  },
  {
   "cell_type": "markdown",
   "metadata": {},
   "source": [
    "We materialize the anomalies..."
   ]
  },
  {
   "cell_type": "code",
   "execution_count": 39,
   "metadata": {
    "collapsed": false
   },
   "outputs": [
    {
     "data": {
      "text/plain": [
       "[(5499, 1000000015.7011416, 999999999.9811611, 2.9290150856888975),\n",
       " (12319, 999999983.3022345, 1000000000.0105721, 2.8772237781317958),\n",
       " (15557, 1000000015.9418716, 999999999.9905121, 2.8577782885846164),\n",
       " (19714, 1000000014.7616296, 999999999.9957602, 2.8621442970405955),\n",
       " (24026, 1000000014.5878202, 999999999.9962343, 2.8864668216983307),\n",
       " (24760, 999999983.4624264, 999999999.9982487, 2.8779812892024523),\n",
       " (27507, 999999985.3455403, 999999999.9948539, 2.885204672398216),\n",
       " (28133, 1000000014.7055862, 999999999.999545, 2.8890541657569253),\n",
       " (31923, 999999985.0781586, 999999999.9965832, 2.881243805589433),\n",
       " (33295, 999999985.460763, 999999999.9969776, 2.8822506386938165),\n",
       " (34456, 1000000017.7530051, 999999999.9972781, 2.8820552572577647),\n",
       " (47616, 1000000016.0321847, 999999999.9935539, 2.8906634074489848),\n",
       " (47892, 999999985.0810857, 999999999.9936116, 2.892584770419964),\n",
       " (48748, 1000000015.7547781, 999999999.9938732, 2.891397982386108),\n",
       " (49190, 999999985.3514779, 999999999.9911772, 2.8943518147887026),\n",
       " (50322, 1000000015.6581253, 999999999.9915397, 2.8985536727500305),\n",
       " (50888, 1000000017.310768, 999999999.9909662, 2.900034913428589),\n",
       " (51163, 999999983.2536529, 999999999.9897528, 2.9009409937078403),\n",
       " (52367, 999999984.5885015, 999999999.988579, 2.901125850394127),\n",
       " (52888, 999999983.6959293, 999999999.9883372, 2.900831040854005),\n",
       " (55569, 1000000014.7421389, 999999999.9853214, 2.898999057364371),\n",
       " (61108, 999999983.582008, 999999999.9842422, 2.8986363753885325),\n",
       " (62837, 999999983.568437, 999999999.9878676, 2.896536645167366),\n",
       " (63633, 1000000017.0518886, 999999999.9883896, 2.896760060057618),\n",
       " (65876, 1000000016.3689889, 999999999.987831, 2.898223997425301),\n",
       " (66308, 999999984.9991257, 999999999.9867413, 2.899132372448353),\n",
       " (69365, 999999984.7545015, 999999999.9876122, 2.898871796039811),\n",
       " (70554, 1000000015.790771, 999999999.9866434, 2.8987840707072907),\n",
       " (76733, 999999983.658652, 999999999.9888431, 2.8963801633982804),\n",
       " (78995, 1000000014.4949567, 999999999.9850454, 2.8930141195641914),\n",
       " (79260, 999999984.2604645, 999999999.9846097, 2.892971449797071),\n",
       " (79355, 1000000014.7820102, 999999999.9855332, 2.8935903174951454),\n",
       " (81656, 999999984.9621097, 999999999.9849368, 2.8931824007382136),\n",
       " (82919, 1000000015.8683225, 999999999.9847183, 2.890716370825562),\n",
       " (89445, 999999985.3738775, 999999999.98451, 2.8853766548599102),\n",
       " (92905, 999999984.756791, 999999999.9858551, 2.8856655258750674)]"
      ]
     },
     "execution_count": 39,
     "metadata": {},
     "output_type": "execute_result"
    }
   ],
   "source": [
    "list(anomalies)#materialize"
   ]
  },
  {
   "cell_type": "markdown",
   "metadata": {},
   "source": [
    "## To think of, but not hand in\n",
    "\n",
    "What kinds of anomalies will this algorithm pick up? What kinds would a shorter \"window\" of anomaly detection, like 100 points around the time in question pick? How might you create an algorithm which does window based averaging? (hint: the window size is small compared to the time series size). \n",
    "\n",
    "Finally think a bit of how you might implement all of this in a production environment..remember that data streaming in might get backed up when you handle an anomaly.\n",
    "\n",
    "(Some inspiration might accrue if you look at the docs for `collections.deque`)."
   ]
  },
  {
   "cell_type": "code",
   "execution_count": null,
   "metadata": {
    "collapsed": true
   },
   "outputs": [],
   "source": []
  }
 ],
 "metadata": {
  "kernelspec": {
   "display_name": "Python 3",
   "language": "python",
   "name": "python3"
  },
  "language_info": {
   "codemirror_mode": {
    "name": "ipython",
    "version": 3
   },
   "file_extension": ".py",
   "mimetype": "text/x-python",
   "name": "python",
   "nbconvert_exporter": "python",
   "pygments_lexer": "ipython3",
   "version": "3.5.1"
  }
 },
 "nbformat": 4,
 "nbformat_minor": 0
}
